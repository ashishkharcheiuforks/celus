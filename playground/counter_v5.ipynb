{
 "cells": [
  {
   "cell_type": "code",
   "execution_count": 19,
   "metadata": {
    "collapsed": true,
    "pycharm": {
     "is_executing": false
    }
   },
   "outputs": [],
   "source": [
    "\n",
    "import json\n",
    "with open('/tmp/test2.json', 'r') as infile:\n",
    "    data = json.load(infile)"
   ]
  },
  {
   "cell_type": "code",
   "execution_count": 20,
   "outputs": [],
   "source": [
    "\n",
    "from collections import Counter\n",
    "\n",
    "def stats(lst, attr):\n",
    "    result = Counter()\n",
    "    for item in lst:\n",
    "        result[item.get(attr)] += 1\n",
    "    return result\n",
    "\n",
    "def print_stats(lst, attrs):\n",
    "    for attr in attrs:\n",
    "        print(f'{attr}:', stats(lst, attr))\n"
   ],
   "metadata": {
    "collapsed": false,
    "pycharm": {
     "name": "#%%\n",
     "is_executing": false
    }
   }
  },
  {
   "cell_type": "code",
   "execution_count": 21,
   "outputs": [
    {
     "name": "stdout",
     "text": [
      "Access_Method: Counter({'Regular': 540})\nYOP: Counter({'2018': 53, '2016': 42, '2013': 39, '2012': 38, '2017': 36, '2014': 35, '2015': 35, '2011': 34, '2010': 29, '2008': 26, '2009': 25, '2007': 24, '2006': 23, '2005': 19, '2004': 17, '2003': 16, '2001': 12, '2002': 11, '2019': 10, '2000': 10, '0001': 3, '1999': 1, '1996': 1, '1997': 1})\nAccess_Type: Counter({'Controlled': 410, 'OA_Gold': 106, None: 24})\nData_Type: Counter({'Journal': 535, 'Book': 4, 'Other': 1})\nSection_Type: Counter({'Article': 536, 'Chapter': 4})\n"
     ],
     "output_type": "stream"
    }
   ],
   "source": [
    "\n",
    "print_stats(data['Report_Items'], \n",
    "            ['Access_Method', 'YOP', 'Access_Type', 'Data_Type', 'Section_Type'])"
   ],
   "metadata": {
    "collapsed": false,
    "pycharm": {
     "name": "#%%\n",
     "is_executing": false
    }
   }
  },
  {
   "cell_type": "code",
   "execution_count": 24,
   "outputs": [
    {
     "name": "stdout",
     "text": [
      "{'Access_Method': 'Regular',\n 'Data_Type': 'Journal',\n 'Item_ID': [{'Type': 'Online_ISSN', 'Value': '2410-8200'},\n             {'Type': 'Print_ISSN', 'Value': '2410-7220'},\n             {'Type': 'DOI', 'Value': '10.3957/sawr.1'},\n             {'Type': 'Proprietary', 'Value': 'BO:sawr.1'}],\n 'Performance': [{'Instance': [{'Count': 1,\n                                'Metric_Type': 'Total_Item_Investigations'},\n                               {'Count': 1,\n                                'Metric_Type': 'Unique_Item_Investigations'}],\n                  'Period': {'Begin_Date': '2019-01-01',\n                             'End_Date': '2019-01-31'}}],\n 'Platform': 'BioOne',\n 'Publisher': 'Southern African Wildlife Management Association',\n 'Publisher_ID': [{'Type': 'Proprietary',\n                   'Value': 'BIOONE:EAAE9E50-A058-E811-80C8-005056B9C586'}],\n 'Section_Type': 'Article',\n 'Title': 'African Journal of Wildlife Research',\n 'YOP': '2018'}\n{'Access_Method': 'Regular',\n 'Data_Type': 'Journal',\n 'Item_ID': [{'Type': 'Online_ISSN', 'Value': '1918-1833'},\n             {'Type': 'Print_ISSN', 'Value': '0008-4220'},\n             {'Type': 'DOI', 'Value': '10.1139/cjps'},\n             {'Type': 'Proprietary', 'Value': 'BO:cjps'}],\n 'Performance': [{'Instance': [{'Count': 1,\n                                'Metric_Type': 'Total_Item_Investigations'},\n                               {'Count': 1,\n                                'Metric_Type': 'Unique_Item_Investigations'}],\n                  'Period': {'Begin_Date': '2019-02-01',\n                             'End_Date': '2019-02-28'}}],\n 'Platform': 'BioOne',\n 'Publisher': 'Canadian Science Publishing',\n 'Publisher_ID': [{'Type': 'Proprietary',\n                   'Value': 'BIOONE:012315C9-6758-E811-80C8-005056B9C586'}],\n 'Section_Type': 'Article',\n 'Title': 'Canadian Journal of Plant Science',\n 'YOP': '2016'}\n{'Access_Method': 'Regular',\n 'Data_Type': 'Journal',\n 'Item_ID': [{'Type': 'Online_ISSN', 'Value': '1918-1841'},\n             {'Type': 'Print_ISSN', 'Value': '0008-4271'},\n             {'Type': 'DOI', 'Value': '10.1139/cjss'},\n             {'Type': 'Proprietary', 'Value': 'BO:cjss'}],\n 'Performance': [{'Instance': [{'Count': 1,\n                                'Metric_Type': 'Unique_Item_Investigations'},\n                               {'Count': 2,\n                                'Metric_Type': 'Total_Item_Investigations'}],\n                  'Period': {'Begin_Date': '2019-02-01',\n                             'End_Date': '2019-02-28'}}],\n 'Platform': 'BioOne',\n 'Publisher': 'Canadian Science Publishing',\n 'Publisher_ID': [{'Type': 'Proprietary',\n                   'Value': 'BIOONE:012315C9-6758-E811-80C8-005056B9C586'}],\n 'Section_Type': 'Article',\n 'Title': 'Canadian Journal of Soil Science',\n 'YOP': '2012'}\n{'Access_Method': 'Regular',\n 'Data_Type': 'Journal',\n 'Item_ID': [{'Type': 'Online_ISSN', 'Value': '1938-2952'},\n             {'Type': 'Print_ISSN', 'Value': '1525-2647'},\n             {'Type': 'DOI', 'Value': '10.1654/copa'},\n             {'Type': 'Proprietary', 'Value': 'BO:copa'}],\n 'Performance': [{'Instance': [{'Count': 2,\n                                'Metric_Type': 'Unique_Item_Investigations'},\n                               {'Count': 2,\n                                'Metric_Type': 'Total_Item_Investigations'}],\n                  'Period': {'Begin_Date': '2019-01-01',\n                             'End_Date': '2019-01-31'}}],\n 'Platform': 'BioOne',\n 'Publisher': 'Helminthological Society of Washington',\n 'Publisher_ID': [{'Type': 'Proprietary',\n                   'Value': 'BIOONE:2180A34A-A058-E811-80C8-005056B9C586'}],\n 'Section_Type': 'Article',\n 'Title': 'Comparative Parasitology',\n 'YOP': '2017'}\n{'Access_Method': 'Regular',\n 'Data_Type': 'Journal',\n 'Item_ID': [{'Type': 'Online_ISSN', 'Value': '1938-2952'},\n             {'Type': 'Print_ISSN', 'Value': '1525-2647'},\n             {'Type': 'DOI', 'Value': '10.1654/copa'},\n             {'Type': 'Proprietary', 'Value': 'BO:copa'}],\n 'Performance': [{'Instance': [{'Count': 3,\n                                'Metric_Type': 'Total_Item_Investigations'},\n                               {'Count': 3,\n                                'Metric_Type': 'Unique_Item_Investigations'}],\n                  'Period': {'Begin_Date': '2019-01-01',\n                             'End_Date': '2019-01-31'}}],\n 'Platform': 'BioOne',\n 'Publisher': 'Helminthological Society of Washington',\n 'Publisher_ID': [{'Type': 'Proprietary',\n                   'Value': 'BIOONE:2180A34A-A058-E811-80C8-005056B9C586'}],\n 'Section_Type': 'Article',\n 'Title': 'Comparative Parasitology',\n 'YOP': '2018'}\n{'Access_Method': 'Regular',\n 'Data_Type': 'Journal',\n 'Item_ID': [{'Type': 'Online_ISSN', 'Value': '1938-2952'},\n             {'Type': 'Print_ISSN', 'Value': '1525-2647'},\n             {'Type': 'DOI', 'Value': '10.1654/copa'},\n             {'Type': 'Proprietary', 'Value': 'BO:copa'}],\n 'Performance': [{'Instance': [{'Count': 2,\n                                'Metric_Type': 'Unique_Item_Investigations'},\n                               {'Count': 2,\n                                'Metric_Type': 'Total_Item_Investigations'}],\n                  'Period': {'Begin_Date': '2019-01-01',\n                             'End_Date': '2019-01-31'}}],\n 'Platform': 'BioOne',\n 'Publisher': 'Helminthological Society of Washington',\n 'Publisher_ID': [{'Type': 'Proprietary',\n                   'Value': 'BIOONE:2180A34A-A058-E811-80C8-005056B9C586'}],\n 'Section_Type': 'Article',\n 'Title': 'Comparative Parasitology',\n 'YOP': '2019'}\n{'Access_Method': 'Regular',\n 'Data_Type': 'Journal',\n 'Item_ID': [{'Type': 'Online_ISSN', 'Value': '1938-2952'},\n             {'Type': 'Print_ISSN', 'Value': '1525-2647'},\n             {'Type': 'DOI', 'Value': '10.1654/copa'},\n             {'Type': 'Proprietary', 'Value': 'BO:copa'}],\n 'Performance': [{'Instance': [{'Count': 2,\n                                'Metric_Type': 'Total_Item_Investigations'},\n                               {'Count': 2,\n                                'Metric_Type': 'Unique_Item_Investigations'}],\n                  'Period': {'Begin_Date': '2019-01-01',\n                             'End_Date': '2019-01-31'}}],\n 'Platform': 'BioOne',\n 'Publisher': 'Helminthological Society of Washington',\n 'Publisher_ID': [{'Type': 'Proprietary',\n                   'Value': 'BIOONE:2180A34A-A058-E811-80C8-005056B9C586'}],\n 'Section_Type': 'Article',\n 'Title': 'Comparative Parasitology',\n 'YOP': '2016'}\n{'Access_Method': 'Regular',\n 'Data_Type': 'Journal',\n 'Item_ID': [{'Type': 'Print_ISSN', 'Value': '0018-0971'},\n             {'Type': 'DOI', 'Value': '10.13158/heia'},\n             {'Type': 'Proprietary', 'Value': 'BO:heia'}],\n 'Performance': [{'Instance': [{'Count': 1,\n                                'Metric_Type': 'Total_Item_Investigations'},\n                               {'Count': 1,\n                                'Metric_Type': 'Unique_Item_Investigations'}],\n                  'Period': {'Begin_Date': '2019-01-01',\n                             'End_Date': '2019-01-31'}}],\n 'Platform': 'BioOne',\n 'Publisher': 'Bryological and Lichenological Association for Central Europe',\n 'Publisher_ID': [{'Type': 'Proprietary',\n                   'Value': 'BIOONE:C1A7FE08-A158-E811-80C8-005056B9C586'}],\n 'Section_Type': 'Article',\n 'Title': 'Herzogia',\n 'YOP': '2018'}\n{'Access_Method': 'Regular',\n 'Data_Type': 'Journal',\n 'Item_ID': [{'Type': 'Online_ISSN', 'Value': '1937-2345'},\n             {'Type': 'Print_ISSN', 'Value': '0022-3395'},\n             {'Type': 'DOI', 'Value': '10.1645/para'},\n             {'Type': 'Proprietary', 'Value': 'BO:para'}],\n 'Performance': [{'Instance': [{'Count': 2,\n                                'Metric_Type': 'Total_Item_Investigations'},\n                               {'Count': 2,\n                                'Metric_Type': 'Unique_Item_Investigations'}],\n                  'Period': {'Begin_Date': '2019-02-01',\n                             'End_Date': '2019-02-28'}}],\n 'Platform': 'BioOne',\n 'Publisher': 'American Society of Parasitologists',\n 'Publisher_ID': [{'Type': 'Proprietary',\n                   'Value': 'BIOONE:777EA34A-A058-E811-80C8-005056B9C586'}],\n 'Section_Type': 'Article',\n 'Title': 'Journal of Parasitology',\n 'YOP': '2018'}\n{'Access_Method': 'Regular',\n 'Data_Type': 'Journal',\n 'Item_ID': [{'Type': 'Online_ISSN', 'Value': '1943-6319'},\n             {'Type': 'Print_ISSN', 'Value': '0730-8000'},\n             {'Type': 'DOI', 'Value': '10.2983/shre'},\n             {'Type': 'Proprietary', 'Value': 'BO:shre'}],\n 'Performance': [{'Instance': [{'Count': 1,\n                                'Metric_Type': 'Total_Item_Investigations'},\n                               {'Count': 1,\n                                'Metric_Type': 'Unique_Item_Investigations'}],\n                  'Period': {'Begin_Date': '2019-01-01',\n                             'End_Date': '2019-01-31'}}],\n 'Platform': 'BioOne',\n 'Publisher': 'National Shellfisheries Association',\n 'Publisher_ID': [{'Type': 'Proprietary',\n                   'Value': 'BIOONE:7D42949C-6958-E811-80C8-005056B9C586'}],\n 'Section_Type': 'Article',\n 'Title': 'Journal of Shellfish Research',\n 'YOP': '2008'}\n{'Access_Method': 'Regular',\n 'Data_Type': 'Journal',\n 'Item_ID': [{'Type': 'Online_ISSN', 'Value': '1937-2825'},\n             {'Type': 'Print_ISSN', 'Value': '1042-7260'},\n             {'Type': 'DOI', 'Value': '10.1638/zamd'},\n             {'Type': 'Proprietary', 'Value': 'BO:zamd'}],\n 'Performance': [{'Instance': [{'Count': 1,\n                                'Metric_Type': 'Unique_Item_Investigations'},\n                               {'Count': 1,\n                                'Metric_Type': 'Total_Item_Investigations'}],\n                  'Period': {'Begin_Date': '2019-02-01',\n                             'End_Date': '2019-02-28'}}],\n 'Platform': 'BioOne',\n 'Publisher': 'American Association of Zoo Veterinarians',\n 'Publisher_ID': [{'Type': 'Proprietary',\n                   'Value': 'BIOONE:D87EA34A-A058-E811-80C8-005056B9C586'}],\n 'Section_Type': 'Article',\n 'Title': 'Journal of Zoo and Wildlife Medicine',\n 'YOP': '2011'}\n{'Access_Method': 'Regular',\n 'Data_Type': 'Journal',\n 'Item_ID': [{'Type': 'Online_ISSN', 'Value': '1937-2825'},\n             {'Type': 'Print_ISSN', 'Value': '1042-7260'},\n             {'Type': 'DOI', 'Value': '10.1638/zamd'},\n             {'Type': 'Proprietary', 'Value': 'BO:zamd'}],\n 'Performance': [{'Instance': [{'Count': 1,\n                                'Metric_Type': 'Total_Item_Investigations'},\n                               {'Count': 1,\n                                'Metric_Type': 'Unique_Item_Investigations'}],\n                  'Period': {'Begin_Date': '2019-03-01',\n                             'End_Date': '2019-03-31'}}],\n 'Platform': 'BioOne',\n 'Publisher': 'American Association of Zoo Veterinarians',\n 'Publisher_ID': [{'Type': 'Proprietary',\n                   'Value': 'BIOONE:D87EA34A-A058-E811-80C8-005056B9C586'}],\n 'Section_Type': 'Article',\n 'Title': 'Journal of Zoo and Wildlife Medicine',\n 'YOP': '2001'}\n{'Access_Method': 'Regular',\n 'Data_Type': 'Journal',\n 'Item_ID': [{'Type': 'Print_ISSN', 'Value': '1097-993X'},\n             {'Type': 'DOI', 'Value': '10.25224/lund'},\n             {'Type': 'Proprietary', 'Value': 'BO:lund'}],\n 'Performance': [{'Instance': [{'Count': 1,\n                                'Metric_Type': 'Total_Item_Investigations'},\n                               {'Count': 1,\n                                'Metric_Type': 'Unique_Item_Investigations'}],\n                  'Period': {'Begin_Date': '2019-02-01',\n                             'End_Date': '2019-02-28'}}],\n 'Platform': 'BioOne',\n 'Publisher': 'The Plant Resources Center, The University of Texas at Austin',\n 'Publisher_ID': [{'Type': 'Proprietary',\n                   'Value': 'BIOONE:5C12DC26-A158-E811-80C8-005056B9C586'}],\n 'Section_Type': 'Article',\n 'Title': 'Lundellia',\n 'YOP': '2014'}\n{'Access_Method': 'Regular',\n 'Data_Type': 'Journal',\n 'Item_ID': [{'Type': 'Online_ISSN', 'Value': '1348-6160'},\n             {'Type': 'Print_ISSN', 'Value': '1343-4152'},\n             {'Type': 'DOI', 'Value': '10.3106/jmam'},\n             {'Type': 'Proprietary', 'Value': 'BO:jmam'}],\n 'Performance': [{'Instance': [{'Count': 1,\n                                'Metric_Type': 'Total_Item_Investigations'},\n                               {'Count': 1,\n                                'Metric_Type': 'Unique_Item_Investigations'}],\n                  'Period': {'Begin_Date': '2019-01-01',\n                             'End_Date': '2019-01-31'}}],\n 'Platform': 'BioOne',\n 'Publisher': 'Mammal Society of Japan',\n 'Publisher_ID': [{'Type': 'Proprietary',\n                   'Value': 'BIOONE:C580A34A-A058-E811-80C8-005056B9C586'}],\n 'Section_Type': 'Article',\n 'Title': 'Mammal Study',\n 'YOP': '2019'}\n{'Access_Method': 'Regular',\n 'Data_Type': 'Journal',\n 'Item_ID': [{'Type': 'Online_ISSN', 'Value': '1937-2418'},\n             {'Type': 'Print_ISSN', 'Value': '1808-9798'},\n             {'Type': 'DOI', 'Value': '10.2994/sajh'},\n             {'Type': 'Proprietary', 'Value': 'BO:sajh'}],\n 'Performance': [{'Instance': [{'Count': 1,\n                                'Metric_Type': 'Total_Item_Investigations'},\n                               {'Count': 1,\n                                'Metric_Type': 'Unique_Item_Investigations'}],\n                  'Period': {'Begin_Date': '2019-01-01',\n                             'End_Date': '2019-01-31'}}],\n 'Platform': 'BioOne',\n 'Publisher': 'Brazilian Society of Herpetology',\n 'Publisher_ID': [{'Type': 'Proprietary',\n                   'Value': 'BIOONE:BB58A190-6958-E811-80C8-005056B9C586'}],\n 'Section_Type': 'Article',\n 'Title': 'South American Journal of Herpetology',\n 'YOP': '2018'}\n{'Access_Method': 'Regular',\n 'Data_Type': 'Journal',\n 'Item_ID': [{'Type': 'Online_ISSN', 'Value': '1938-4378'},\n             {'Type': 'Print_ISSN', 'Value': '0007-2745'},\n             {'Type': 'DOI', 'Value': '10.1639/bryo'},\n             {'Type': 'Proprietary', 'Value': 'BO:bryo'}],\n 'Performance': [{'Instance': [{'Count': 4,\n                                'Metric_Type': 'Total_Item_Investigations'},\n                               {'Count': 3,\n                                'Metric_Type': 'Unique_Item_Investigations'}],\n                  'Period': {'Begin_Date': '2019-01-01',\n                             'End_Date': '2019-01-31'}},\n                 {'Instance': [{'Count': 3,\n                                'Metric_Type': 'Unique_Item_Investigations'},\n                               {'Count': 4,\n                                'Metric_Type': 'Total_Item_Investigations'}],\n                  'Period': {'Begin_Date': '2019-02-01',\n                             'End_Date': '2019-02-28'}}],\n 'Platform': 'BioOne',\n 'Publisher': 'American Bryological and Lichenological Society',\n 'Publisher_ID': [{'Type': 'Proprietary',\n                   'Value': 'BIOONE:247EA34A-A058-E811-80C8-005056B9C586'}],\n 'Section_Type': 'Article',\n 'Title': 'The Bryologist',\n 'YOP': '2018'}\n{'Access_Method': 'Regular',\n 'Data_Type': 'Journal',\n 'Item_ID': [{'Type': 'Online_ISSN', 'Value': '1938-4378'},\n             {'Type': 'Print_ISSN', 'Value': '0007-2745'},\n             {'Type': 'DOI', 'Value': '10.1639/bryo'},\n             {'Type': 'Proprietary', 'Value': 'BO:bryo'}],\n 'Performance': [{'Instance': [{'Count': 2,\n                                'Metric_Type': 'Unique_Item_Investigations'},\n                               {'Count': 2,\n                                'Metric_Type': 'Total_Item_Investigations'}],\n                  'Period': {'Begin_Date': '2019-02-01',\n                             'End_Date': '2019-02-28'}}],\n 'Platform': 'BioOne',\n 'Publisher': 'American Bryological and Lichenological Society',\n 'Publisher_ID': [{'Type': 'Proprietary',\n                   'Value': 'BIOONE:247EA34A-A058-E811-80C8-005056B9C586'}],\n 'Section_Type': 'Article',\n 'Title': 'The Bryologist',\n 'YOP': '2017'}\n{'Access_Method': 'Regular',\n 'Data_Type': 'Journal',\n 'Item_ID': [{'Type': 'Online_ISSN', 'Value': '1938-4378'},\n             {'Type': 'Print_ISSN', 'Value': '0007-2745'},\n             {'Type': 'DOI', 'Value': '10.1639/bryo'},\n             {'Type': 'Proprietary', 'Value': 'BO:bryo'}],\n 'Performance': [{'Instance': [{'Count': 1,\n                                'Metric_Type': 'Total_Item_Investigations'},\n                               {'Count': 1,\n                                'Metric_Type': 'Unique_Item_Investigations'}],\n                  'Period': {'Begin_Date': '2019-02-01',\n                             'End_Date': '2019-02-28'}}],\n 'Platform': 'BioOne',\n 'Publisher': 'American Bryological and Lichenological Society',\n 'Publisher_ID': [{'Type': 'Proprietary',\n                   'Value': 'BIOONE:247EA34A-A058-E811-80C8-005056B9C586'}],\n 'Section_Type': 'Article',\n 'Title': 'The Bryologist',\n 'YOP': '2006'}\n{'Access_Method': 'Regular',\n 'Data_Type': 'Journal',\n 'Item_ID': [{'Type': 'Print_ISSN', 'Value': '0024-0966'},\n             {'Type': 'DOI', 'Value': '10.18473/lepi'},\n             {'Type': 'Proprietary', 'Value': 'BO:lepi'}],\n 'Performance': [{'Instance': [{'Count': 4,\n                                'Metric_Type': 'Unique_Item_Investigations'},\n                               {'Count': 4,\n                                'Metric_Type': 'Total_Item_Investigations'}],\n                  'Period': {'Begin_Date': '2019-01-01',\n                             'End_Date': '2019-01-31'}}],\n 'Platform': 'BioOne',\n 'Publisher': \"Lepidopterists' Society\",\n 'Publisher_ID': [{'Type': 'Proprietary',\n                   'Value': 'BIOONE:BE8DEF14-A158-E811-80C8-005056B9C586'}],\n 'Section_Type': 'Article',\n 'Title': \"The Journal of the Lepidopterists' Society\",\n 'YOP': '2018'}\n{'Access_Method': 'Regular',\n 'Data_Type': 'Journal',\n 'Item_ID': [{'Type': 'Print_ISSN', 'Value': '0024-0966'},\n             {'Type': 'DOI', 'Value': '10.18473/lepi'},\n             {'Type': 'Proprietary', 'Value': 'BO:lepi'}],\n 'Performance': [{'Instance': [{'Count': 4,\n                                'Metric_Type': 'Total_Item_Investigations'},\n                               {'Count': 4,\n                                'Metric_Type': 'Unique_Item_Investigations'}],\n                  'Period': {'Begin_Date': '2019-01-01',\n                             'End_Date': '2019-01-31'}}],\n 'Platform': 'BioOne',\n 'Publisher': \"Lepidopterists' Society\",\n 'Publisher_ID': [{'Type': 'Proprietary',\n                   'Value': 'BIOONE:BE8DEF14-A158-E811-80C8-005056B9C586'}],\n 'Section_Type': 'Article',\n 'Title': \"The Journal of the Lepidopterists' Society\",\n 'YOP': '2017'}\n{'Access_Method': 'Regular',\n 'Data_Type': 'Journal',\n 'Item_ID': [{'Type': 'Online_ISSN', 'Value': '1938-5447'},\n             {'Type': 'Print_ISSN', 'Value': '1559-4491'},\n             {'Type': 'DOI', 'Value': '10.1676/wils'},\n             {'Type': 'Proprietary', 'Value': 'BO:wils'}],\n 'Performance': [{'Instance': [{'Count': 1,\n                                'Metric_Type': 'Total_Item_Investigations'},\n                               {'Count': 1,\n                                'Metric_Type': 'Unique_Item_Investigations'}],\n                  'Period': {'Begin_Date': '2019-02-01',\n                             'End_Date': '2019-02-28'}}],\n 'Platform': 'BioOne',\n 'Publisher': 'Wilson Ornithological Society',\n 'Publisher_ID': [{'Type': 'Proprietary',\n                   'Value': 'BIOONE:DAAD9E50-A058-E811-80C8-005056B9C586'}],\n 'Section_Type': 'Article',\n 'Title': 'The Wilson Journal of Ornithology',\n 'YOP': '2011'}\n{'Access_Method': 'Regular',\n 'Data_Type': 'Journal',\n 'Item_ID': [{'Type': 'Online_ISSN', 'Value': '1550-2759'},\n             {'Type': 'Print_ISSN', 'Value': '0043-1745'},\n             {'Type': 'DOI', 'Value': '10.1017/wees'},\n             {'Type': 'Proprietary', 'Value': 'BO:wees'}],\n 'Performance': [{'Instance': [{'Count': 1,\n                                'Metric_Type': 'Unique_Item_Investigations'},\n                               {'Count': 1,\n                                'Metric_Type': 'Total_Item_Investigations'}],\n                  'Period': {'Begin_Date': '2019-01-01',\n                             'End_Date': '2019-01-31'}},\n                 {'Instance': [{'Count': 1,\n                                'Metric_Type': 'Total_Item_Investigations'},\n                               {'Count': 1,\n                                'Metric_Type': 'Unique_Item_Investigations'}],\n                  'Period': {'Begin_Date': '2019-02-01',\n                             'End_Date': '2019-02-28'}}],\n 'Platform': 'BioOne',\n 'Publisher': 'Weed Science Society of America',\n 'Publisher_ID': [{'Type': 'Proprietary',\n                   'Value': 'BIOONE:E8AD9E50-A058-E811-80C8-005056B9C586'}],\n 'Section_Type': 'Article',\n 'Title': 'Weed Science',\n 'YOP': '2018'}\n{'Access_Method': 'Regular',\n 'Data_Type': 'Journal',\n 'Item_ID': [{'Type': 'Online_ISSN', 'Value': '1550-2759'},\n             {'Type': 'Print_ISSN', 'Value': '0043-1745'},\n             {'Type': 'DOI', 'Value': '10.1017/wees'},\n             {'Type': 'Proprietary', 'Value': 'BO:wees'}],\n 'Performance': [{'Instance': [{'Count': 1,\n                                'Metric_Type': 'Total_Item_Investigations'},\n                               {'Count': 1,\n                                'Metric_Type': 'Unique_Item_Investigations'}],\n                  'Period': {'Begin_Date': '2019-02-01',\n                             'End_Date': '2019-02-28'}}],\n 'Platform': 'BioOne',\n 'Publisher': 'Weed Science Society of America',\n 'Publisher_ID': [{'Type': 'Proprietary',\n                   'Value': 'BIOONE:E8AD9E50-A058-E811-80C8-005056B9C586'}],\n 'Section_Type': 'Article',\n 'Title': 'Weed Science',\n 'YOP': '2016'}\n{'Access_Method': 'Regular',\n 'Data_Type': 'Journal',\n 'Item_ID': [{'Type': 'Online_ISSN', 'Value': '1903-220X'},\n             {'Type': 'Print_ISSN', 'Value': '0909-6396'},\n             {'Type': 'DOI', 'Value': '10.2981/wbio'},\n             {'Type': 'Proprietary', 'Value': 'BO:wbio'}],\n 'Performance': [{'Instance': [{'Count': 1,\n                                'Metric_Type': 'Total_Item_Investigations'},\n                               {'Count': 1,\n                                'Metric_Type': 'Unique_Item_Investigations'}],\n                  'Period': {'Begin_Date': '2019-01-01',\n                             'End_Date': '2019-01-31'}},\n                 {'Instance': [{'Count': 1,\n                                'Metric_Type': 'Unique_Item_Investigations'},\n                               {'Count': 1,\n                                'Metric_Type': 'Total_Item_Investigations'}],\n                  'Period': {'Begin_Date': '2019-03-01',\n                             'End_Date': '2019-03-31'}}],\n 'Platform': 'BioOne',\n 'Publisher': 'Nordic Board for Wildlife Research',\n 'Publisher_ID': [{'Type': 'Proprietary',\n                   'Value': 'BIOONE:658C79BA-6958-E811-80C8-005056B9C586'}],\n 'Section_Type': 'Article',\n 'Title': 'Wildlife Biology',\n 'YOP': '2018'}\n"
     ],
     "output_type": "stream"
    }
   ],
   "source": [
    "\n",
    "from pprint import pprint\n",
    "\n",
    "for rec in data['Report_Items']:\n",
    "    if 'Access_Type' not in rec: #== 'Other':\n",
    "        pprint(rec)"
   ],
   "metadata": {
    "collapsed": false,
    "pycharm": {
     "name": "#%%\n",
     "is_executing": false
    }
   }
  },
  {
   "cell_type": "code",
   "execution_count": null,
   "outputs": [],
   "source": [
    "\n"
   ],
   "metadata": {
    "collapsed": false,
    "pycharm": {
     "name": "#%%\n"
    }
   }
  }
 ],
 "metadata": {
  "language_info": {
   "codemirror_mode": {
    "name": "ipython",
    "version": 2
   },
   "file_extension": ".py",
   "mimetype": "text/x-python",
   "name": "python",
   "nbconvert_exporter": "python",
   "pygments_lexer": "ipython2",
   "version": "2.7.6"
  },
  "kernelspec": {
   "name": "python3",
   "language": "python",
   "display_name": "Python 3"
  },
  "pycharm": {
   "stem_cell": {
    "cell_type": "raw",
    "source": [],
    "metadata": {
     "collapsed": false
    }
   }
  }
 },
 "nbformat": 4,
 "nbformat_minor": 0
}