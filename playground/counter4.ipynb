{
 "cells": [
  {
   "cell_type": "code",
   "execution_count": 5,
   "metadata": {
    "collapsed": true,
    "pycharm": {
     "is_executing": false
    }
   },
   "outputs": [
    {
     "data": {
      "text/plain": "<CounterReport JR1 version 4 for date range 2018-01-01 to 2018-12-31>"
     },
     "metadata": {},
     "output_type": "execute_result",
     "execution_count": 5
    }
   ],
   "source": [
    "\n",
    "from pycounter import report\n",
    "\n",
    "data = report.parse('_tmp_0175.data')\n",
    "\n",
    "data"
   ]
  },
  {
   "cell_type": "code",
   "execution_count": 7,
   "outputs": [
    {
     "data": {
      "text/plain": "'FT Article Requests'"
     },
     "metadata": {},
     "output_type": "execute_result",
     "execution_count": 7
    }
   ],
   "source": [
    "\n",
    "data.metric\n",
    "\n"
   ],
   "metadata": {
    "collapsed": false,
    "pycharm": {
     "name": "#%%\n",
     "is_executing": false
    }
   }
  },
  {
   "cell_type": "code",
   "execution_count": 15,
   "outputs": [
    {
     "name": "stdout",
     "text": [
      "New England Journal of Medicine\n   MonthsUsage(month=datetime.date(2018, 1, 1), metric='FT Article Requests', usage=249)\nx  (datetime.date(2018, 1, 1), 'FT Article Requests', 249)\n   MonthsUsage(month=datetime.date(2018, 2, 1), metric='FT Article Requests', usage=242)\nx  (datetime.date(2018, 2, 1), 'FT Article Requests', 242)\n   MonthsUsage(month=datetime.date(2018, 3, 1), metric='FT Article Requests', usage=181)\nx  (datetime.date(2018, 3, 1), 'FT Article Requests', 181)\n   MonthsUsage(month=datetime.date(2018, 4, 1), metric='FT Article Requests', usage=163)\nx  (datetime.date(2018, 4, 1), 'FT Article Requests', 163)\n   MonthsUsage(month=datetime.date(2018, 5, 1), metric='FT Article Requests', usage=148)\nx  (datetime.date(2018, 5, 1), 'FT Article Requests', 148)\n   MonthsUsage(month=datetime.date(2018, 6, 1), metric='FT Article Requests', usage=162)\nx  (datetime.date(2018, 6, 1), 'FT Article Requests', 162)\n   MonthsUsage(month=datetime.date(2018, 7, 1), metric='FT Article Requests', usage=141)\nx  (datetime.date(2018, 7, 1), 'FT Article Requests', 141)\n   MonthsUsage(month=datetime.date(2018, 8, 1), metric='FT Article Requests', usage=187)\nx  (datetime.date(2018, 8, 1), 'FT Article Requests', 187)\n   MonthsUsage(month=datetime.date(2018, 9, 1), metric='FT Article Requests', usage=174)\nx  (datetime.date(2018, 9, 1), 'FT Article Requests', 174)\n   MonthsUsage(month=datetime.date(2018, 10, 1), metric='FT Article Requests', usage=303)\nx  (datetime.date(2018, 10, 1), 'FT Article Requests', 303)\n   MonthsUsage(month=datetime.date(2018, 11, 1), metric='FT Article Requests', usage=268)\nx  (datetime.date(2018, 11, 1), 'FT Article Requests', 268)\n   MonthsUsage(month=datetime.date(2018, 12, 1), metric='FT Article Requests', usage=255)\nx  (datetime.date(2018, 12, 1), 'FT Article Requests', 255)\n"
     ],
     "output_type": "stream"
    }
   ],
   "source": [
    "\n",
    "for j in data:\n",
    "    print(j.title)\n",
    "    for rec in j:\n",
    "        print('  ', rec)\n",
    "        print('x ', tuple(rec))"
   ],
   "metadata": {
    "collapsed": false,
    "pycharm": {
     "name": "#%%\n",
     "is_executing": false
    }
   }
  },
  {
   "cell_type": "code",
   "execution_count": 12,
   "outputs": [
    {
     "name": "stdout",
     "text": [
      "<CounterJournal New England Journal of Medicine, publisher Massachusetts Medical Society,\n        platform New England Journal of Medicine>\n"
     ],
     "output_type": "stream"
    }
   ],
   "source": [],
   "metadata": {
    "collapsed": false,
    "pycharm": {
     "name": "#%%\n",
     "is_executing": false
    }
   }
  }
 ],
 "metadata": {
  "language_info": {
   "codemirror_mode": {
    "name": "ipython",
    "version": 2
   },
   "file_extension": ".py",
   "mimetype": "text/x-python",
   "name": "python",
   "nbconvert_exporter": "python",
   "pygments_lexer": "ipython2",
   "version": "2.7.6"
  },
  "kernelspec": {
   "name": "python3",
   "language": "python",
   "display_name": "Python 3"
  },
  "pycharm": {
   "stem_cell": {
    "cell_type": "raw",
    "source": [],
    "metadata": {
     "collapsed": false
    }
   }
  }
 },
 "nbformat": 4,
 "nbformat_minor": 0
}