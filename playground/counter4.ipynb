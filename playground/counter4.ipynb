{
 "cells": [
  {
   "cell_type": "code",
   "execution_count": 1,
   "metadata": {
    "collapsed": true,
    "pycharm": {
     "is_executing": false
    }
   },
   "outputs": [],
   "source": [
    "%load_ext autoreload\n",
    "%autoreload 2\n",
    "\n"
   ]
  },
  {
   "cell_type": "code",
   "execution_count": 6,
   "outputs": [
    {
     "data": {
      "text/plain": "<CounterReport PR1 version 4 for date range 2018-01-01 to 2018-12-31>"
     },
     "metadata": {},
     "output_type": "execute_result",
     "execution_count": 6
    }
   ],
   "source": [
    "from pycounter import report\n",
    "\n",
    "data = report.parse('_tmp_0002.data')\n",
    "\n",
    "data\n"
   ],
   "metadata": {
    "collapsed": false,
    "pycharm": {
     "name": "#%%\n",
     "is_executing": false
    }
   }
  },
  {
   "cell_type": "code",
   "execution_count": 7,
   "outputs": [],
   "source": [
    "\n",
    "data.metric\n",
    "\n"
   ],
   "metadata": {
    "collapsed": false,
    "pycharm": {
     "name": "#%%\n",
     "is_executing": false
    }
   }
  },
  {
   "cell_type": "code",
   "execution_count": 8,
   "outputs": [
    {
     "name": "stdout",
     "text": [
      "\n   MonthsUsage(month=datetime.date(2018, 1, 1), metric='Regular Searches', usage=91)\nx  (datetime.date(2018, 1, 1), 'Regular Searches', 91)\n   MonthsUsage(month=datetime.date(2018, 2, 1), metric='Regular Searches', usage=41)\nx  (datetime.date(2018, 2, 1), 'Regular Searches', 41)\n   MonthsUsage(month=datetime.date(2018, 3, 1), metric='Regular Searches', usage=13)\nx  (datetime.date(2018, 3, 1), 'Regular Searches', 13)\n   MonthsUsage(month=datetime.date(2018, 4, 1), metric='Regular Searches', usage=21)\nx  (datetime.date(2018, 4, 1), 'Regular Searches', 21)\n   MonthsUsage(month=datetime.date(2018, 5, 1), metric='Regular Searches', usage=44)\nx  (datetime.date(2018, 5, 1), 'Regular Searches', 44)\n   MonthsUsage(month=datetime.date(2018, 6, 1), metric='Regular Searches', usage=8)\nx  (datetime.date(2018, 6, 1), 'Regular Searches', 8)\n   MonthsUsage(month=datetime.date(2018, 7, 1), metric='Regular Searches', usage=0)\nx  (datetime.date(2018, 7, 1), 'Regular Searches', 0)\n   MonthsUsage(month=datetime.date(2018, 8, 1), metric='Regular Searches', usage=0)\nx  (datetime.date(2018, 8, 1), 'Regular Searches', 0)\n   MonthsUsage(month=datetime.date(2018, 9, 1), metric='Regular Searches', usage=36)\nx  (datetime.date(2018, 9, 1), 'Regular Searches', 36)\n   MonthsUsage(month=datetime.date(2018, 10, 1), metric='Regular Searches', usage=36)\nx  (datetime.date(2018, 10, 1), 'Regular Searches', 36)\n   MonthsUsage(month=datetime.date(2018, 11, 1), metric='Regular Searches', usage=7)\nx  (datetime.date(2018, 11, 1), 'Regular Searches', 7)\n   MonthsUsage(month=datetime.date(2018, 12, 1), metric='Regular Searches', usage=2)\nx  (datetime.date(2018, 12, 1), 'Regular Searches', 2)\n\n   MonthsUsage(month=datetime.date(2018, 1, 1), metric='Searches-federated and automated', usage=0)\nx  (datetime.date(2018, 1, 1), 'Searches-federated and automated', 0)\n   MonthsUsage(month=datetime.date(2018, 2, 1), metric='Searches-federated and automated', usage=0)\nx  (datetime.date(2018, 2, 1), 'Searches-federated and automated', 0)\n   MonthsUsage(month=datetime.date(2018, 3, 1), metric='Searches-federated and automated', usage=0)\nx  (datetime.date(2018, 3, 1), 'Searches-federated and automated', 0)\n   MonthsUsage(month=datetime.date(2018, 4, 1), metric='Searches-federated and automated', usage=0)\nx  (datetime.date(2018, 4, 1), 'Searches-federated and automated', 0)\n   MonthsUsage(month=datetime.date(2018, 5, 1), metric='Searches-federated and automated', usage=0)\nx  (datetime.date(2018, 5, 1), 'Searches-federated and automated', 0)\n   MonthsUsage(month=datetime.date(2018, 6, 1), metric='Searches-federated and automated', usage=0)\nx  (datetime.date(2018, 6, 1), 'Searches-federated and automated', 0)\n   MonthsUsage(month=datetime.date(2018, 7, 1), metric='Searches-federated and automated', usage=0)\nx  (datetime.date(2018, 7, 1), 'Searches-federated and automated', 0)\n   MonthsUsage(month=datetime.date(2018, 8, 1), metric='Searches-federated and automated', usage=0)\nx  (datetime.date(2018, 8, 1), 'Searches-federated and automated', 0)\n   MonthsUsage(month=datetime.date(2018, 9, 1), metric='Searches-federated and automated', usage=0)\nx  (datetime.date(2018, 9, 1), 'Searches-federated and automated', 0)\n   MonthsUsage(month=datetime.date(2018, 10, 1), metric='Searches-federated and automated', usage=0)\nx  (datetime.date(2018, 10, 1), 'Searches-federated and automated', 0)\n   MonthsUsage(month=datetime.date(2018, 11, 1), metric='Searches-federated and automated', usage=0)\nx  (datetime.date(2018, 11, 1), 'Searches-federated and automated', 0)\n   MonthsUsage(month=datetime.date(2018, 12, 1), metric='Searches-federated and automated', usage=0)\nx  (datetime.date(2018, 12, 1), 'Searches-federated and automated', 0)\n\n   MonthsUsage(month=datetime.date(2018, 1, 1), metric='Result Clicks', usage=19)\nx  (datetime.date(2018, 1, 1), 'Result Clicks', 19)\n   MonthsUsage(month=datetime.date(2018, 2, 1), metric='Result Clicks', usage=18)\nx  (datetime.date(2018, 2, 1), 'Result Clicks', 18)\n   MonthsUsage(month=datetime.date(2018, 3, 1), metric='Result Clicks', usage=1)\nx  (datetime.date(2018, 3, 1), 'Result Clicks', 1)\n   MonthsUsage(month=datetime.date(2018, 4, 1), metric='Result Clicks', usage=8)\nx  (datetime.date(2018, 4, 1), 'Result Clicks', 8)\n   MonthsUsage(month=datetime.date(2018, 5, 1), metric='Result Clicks', usage=13)\nx  (datetime.date(2018, 5, 1), 'Result Clicks', 13)\n   MonthsUsage(month=datetime.date(2018, 6, 1), metric='Result Clicks', usage=5)\nx  (datetime.date(2018, 6, 1), 'Result Clicks', 5)\n   MonthsUsage(month=datetime.date(2018, 7, 1), metric='Result Clicks', usage=0)\nx  (datetime.date(2018, 7, 1), 'Result Clicks', 0)\n   MonthsUsage(month=datetime.date(2018, 8, 1), metric='Result Clicks', usage=0)\nx  (datetime.date(2018, 8, 1), 'Result Clicks', 0)\n   MonthsUsage(month=datetime.date(2018, 9, 1), metric='Result Clicks', usage=13)\nx  (datetime.date(2018, 9, 1), 'Result Clicks', 13)\n   MonthsUsage(month=datetime.date(2018, 10, 1), metric='Result Clicks', usage=6)\nx  (datetime.date(2018, 10, 1), 'Result Clicks', 6)\n   MonthsUsage(month=datetime.date(2018, 11, 1), metric='Result Clicks', usage=2)\nx  (datetime.date(2018, 11, 1), 'Result Clicks', 2)\n   MonthsUsage(month=datetime.date(2018, 12, 1), metric='Result Clicks', usage=2)\nx  (datetime.date(2018, 12, 1), 'Result Clicks', 2)\n\n   MonthsUsage(month=datetime.date(2018, 1, 1), metric='Record Views', usage=22)\nx  (datetime.date(2018, 1, 1), 'Record Views', 22)\n   MonthsUsage(month=datetime.date(2018, 2, 1), metric='Record Views', usage=19)\nx  (datetime.date(2018, 2, 1), 'Record Views', 19)\n   MonthsUsage(month=datetime.date(2018, 3, 1), metric='Record Views', usage=1)\nx  (datetime.date(2018, 3, 1), 'Record Views', 1)\n   MonthsUsage(month=datetime.date(2018, 4, 1), metric='Record Views', usage=9)\nx  (datetime.date(2018, 4, 1), 'Record Views', 9)\n   MonthsUsage(month=datetime.date(2018, 5, 1), metric='Record Views', usage=19)\nx  (datetime.date(2018, 5, 1), 'Record Views', 19)\n   MonthsUsage(month=datetime.date(2018, 6, 1), metric='Record Views', usage=5)\nx  (datetime.date(2018, 6, 1), 'Record Views', 5)\n   MonthsUsage(month=datetime.date(2018, 7, 1), metric='Record Views', usage=0)\nx  (datetime.date(2018, 7, 1), 'Record Views', 0)\n   MonthsUsage(month=datetime.date(2018, 8, 1), metric='Record Views', usage=0)\nx  (datetime.date(2018, 8, 1), 'Record Views', 0)\n   MonthsUsage(month=datetime.date(2018, 9, 1), metric='Record Views', usage=15)\nx  (datetime.date(2018, 9, 1), 'Record Views', 15)\n   MonthsUsage(month=datetime.date(2018, 10, 1), metric='Record Views', usage=6)\nx  (datetime.date(2018, 10, 1), 'Record Views', 6)\n   MonthsUsage(month=datetime.date(2018, 11, 1), metric='Record Views', usage=2)\nx  (datetime.date(2018, 11, 1), 'Record Views', 2)\n   MonthsUsage(month=datetime.date(2018, 12, 1), metric='Record Views', usage=2)\nx  (datetime.date(2018, 12, 1), 'Record Views', 2)\n"
     ],
     "output_type": "stream"
    }
   ],
   "source": [
    "\n",
    "for j in data:\n",
    "    print(j.title)\n",
    "    for rec in j:\n",
    "        print('  ', rec)\n",
    "        print('x ', tuple(rec))"
   ],
   "metadata": {
    "collapsed": false,
    "pycharm": {
     "name": "#%%\n",
     "is_executing": false
    }
   }
  },
  {
   "cell_type": "code",
   "execution_count": 9,
   "outputs": [],
   "source": [
    "data.write_tsv('XXXX.txt')"
   ],
   "metadata": {
    "collapsed": false,
    "pycharm": {
     "name": "#%%\n",
     "is_executing": false
    }
   }
  },
  {
   "cell_type": "code",
   "execution_count": null,
   "outputs": [],
   "source": [
    "\n"
   ],
   "metadata": {
    "collapsed": false,
    "pycharm": {
     "name": "#%%\n"
    }
   }
  }
 ],
 "metadata": {
  "language_info": {
   "codemirror_mode": {
    "name": "ipython",
    "version": 2
   },
   "file_extension": ".py",
   "mimetype": "text/x-python",
   "name": "python",
   "nbconvert_exporter": "python",
   "pygments_lexer": "ipython2",
   "version": "2.7.6"
  },
  "kernelspec": {
   "name": "python3",
   "language": "python",
   "display_name": "Python 3"
  },
  "pycharm": {
   "stem_cell": {
    "cell_type": "raw",
    "source": [],
    "metadata": {
     "collapsed": false
    }
   }
  }
 },
 "nbformat": 4,
 "nbformat_minor": 0
}
